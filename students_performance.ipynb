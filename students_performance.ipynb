{
 "cells": [
  {
   "cell_type": "code",
   "execution_count": 1,
   "id": "8fdfbdfe-7b70-4583-95a3-68b2777db02a",
   "metadata": {},
   "outputs": [],
   "source": [
    "import pandas as pd"
   ]
  },
  {
   "cell_type": "code",
   "execution_count": 2,
   "id": "857a038b-6e0b-47bc-89b1-019009b7c2b6",
   "metadata": {},
   "outputs": [],
   "source": [
    "from sklearn.model_selection import train_test_split"
   ]
  },
  {
   "cell_type": "code",
   "execution_count": 3,
   "id": "3783800a-dfc2-4188-a4d7-6a9702fbf440",
   "metadata": {},
   "outputs": [],
   "source": [
    "from sklearn.ensemble import RandomForestClassifier"
   ]
  },
  {
   "cell_type": "code",
   "execution_count": 4,
   "id": "bfcea8e1-346f-4104-b682-447e4d106bcd",
   "metadata": {},
   "outputs": [],
   "source": [
    "from tqdm import tqdm"
   ]
  },
  {
   "cell_type": "code",
   "execution_count": 5,
   "id": "8a1e520e-0ce4-446f-86c6-951ab0f949aa",
   "metadata": {},
   "outputs": [],
   "source": [
    "from sklearn.metrics import accuracy_score, confusion_matrix"
   ]
  },
  {
   "cell_type": "code",
   "execution_count": 6,
   "id": "c1422db4-7569-429c-8469-a77e516b2d35",
   "metadata": {},
   "outputs": [],
   "source": [
    "from sklearn.metrics import classification_report"
   ]
  },
  {
   "cell_type": "code",
   "execution_count": 7,
   "id": "47d7e8bd-0fdb-4a0a-bb68-553d985cbea3",
   "metadata": {},
   "outputs": [],
   "source": [
    "import matplotlib.pyplot as plt"
   ]
  },
  {
   "cell_type": "code",
   "execution_count": 8,
   "id": "da18e12c-d0f0-45b1-ae73-f07b3d6a5406",
   "metadata": {},
   "outputs": [],
   "source": [
    "import seaborn as sns"
   ]
  },
  {
   "cell_type": "code",
   "execution_count": 9,
   "id": "2c7bb762-af8c-4135-b73a-89fed177b7d1",
   "metadata": {},
   "outputs": [],
   "source": [
    "df = pd.read_csv(\"Student_performance_data _.csv\")"
   ]
  },
  {
   "cell_type": "code",
   "execution_count": 10,
   "id": "c553d902-7c8b-426f-946f-7abdd05e47bc",
   "metadata": {},
   "outputs": [
    {
     "name": "stdout",
     "output_type": "stream",
     "text": [
      "      StudentID  Age  Gender  Ethnicity  ParentalEducation  StudyTimeWeekly  \\\n",
      "0          1001   17       1          0                  2        19.833723   \n",
      "1          1002   18       0          0                  1        15.408756   \n",
      "2          1003   15       0          2                  3         4.210570   \n",
      "3          1004   17       1          0                  3        10.028829   \n",
      "4          1005   17       1          0                  2         4.672495   \n",
      "...         ...  ...     ...        ...                ...              ...   \n",
      "2387       3388   18       1          0                  3        10.680555   \n",
      "2388       3389   17       0          0                  1         7.583217   \n",
      "2389       3390   16       1          0                  2         6.805500   \n",
      "2390       3391   16       1          1                  0        12.416653   \n",
      "2391       3392   16       1          0                  2        17.819907   \n",
      "\n",
      "      Absences  Tutoring  ParentalSupport  Extracurricular  Sports  Music  \\\n",
      "0            7         1                2                0       0      1   \n",
      "1            0         0                1                0       0      0   \n",
      "2           26         0                2                0       0      0   \n",
      "3           14         0                3                1       0      0   \n",
      "4           17         1                3                0       0      0   \n",
      "...        ...       ...              ...              ...     ...    ...   \n",
      "2387         2         0                4                1       0      0   \n",
      "2388         4         1                4                0       1      0   \n",
      "2389        20         0                2                0       0      0   \n",
      "2390        17         0                2                0       1      1   \n",
      "2391        13         0                2                0       0      0   \n",
      "\n",
      "      Volunteering       GPA  GradeClass  \n",
      "0                0  2.929196         2.0  \n",
      "1                0  3.042915         1.0  \n",
      "2                0  0.112602         4.0  \n",
      "3                0  2.054218         3.0  \n",
      "4                0  1.288061         4.0  \n",
      "...            ...       ...         ...  \n",
      "2387             0  3.455509         0.0  \n",
      "2388             0  3.279150         4.0  \n",
      "2389             1  1.142333         2.0  \n",
      "2390             0  1.803297         1.0  \n",
      "2391             1  2.140014         1.0  \n",
      "\n",
      "[2392 rows x 15 columns]\n"
     ]
    }
   ],
   "source": [
    "print(df)"
   ]
  },
  {
   "cell_type": "code",
   "execution_count": 11,
   "id": "d26a57ef-7cbb-4df7-a351-9a72775a768d",
   "metadata": {},
   "outputs": [
    {
     "name": "stdout",
     "output_type": "stream",
     "text": [
      "   StudentID  Age  Gender  Ethnicity  ParentalEducation  StudyTimeWeekly  \\\n",
      "0       1001   17       1          0                  2        19.833723   \n",
      "1       1002   18       0          0                  1        15.408756   \n",
      "2       1003   15       0          2                  3         4.210570   \n",
      "3       1004   17       1          0                  3        10.028829   \n",
      "\n",
      "   Absences  Tutoring  ParentalSupport  Extracurricular  Sports  Music  \\\n",
      "0         7         1                2                0       0      1   \n",
      "1         0         0                1                0       0      0   \n",
      "2        26         0                2                0       0      0   \n",
      "3        14         0                3                1       0      0   \n",
      "\n",
      "   Volunteering       GPA  GradeClass  \n",
      "0             0  2.929196         2.0  \n",
      "1             0  3.042915         1.0  \n",
      "2             0  0.112602         4.0  \n",
      "3             0  2.054218         3.0  \n"
     ]
    }
   ],
   "source": [
    "print(df[0:4])"
   ]
  },
  {
   "cell_type": "code",
   "execution_count": 12,
   "id": "36b1e629-c023-400b-98c4-54767f811eca",
   "metadata": {},
   "outputs": [
    {
     "name": "stdout",
     "output_type": "stream",
     "text": [
      "   StudentID  Age\n",
      "0       1001   17\n",
      "1       1002   18\n",
      "2       1003   15\n",
      "3       1004   17\n"
     ]
    }
   ],
   "source": [
    "print(df.iloc[0:4,0:2])"
   ]
  },
  {
   "cell_type": "code",
   "execution_count": 13,
   "id": "69721d16-70eb-4bb5-8455-ddfa1ae519b7",
   "metadata": {},
   "outputs": [],
   "source": [
    "X = df.drop(columns = [\"StudentID\",\"GradeClass\"])"
   ]
  },
  {
   "cell_type": "code",
   "execution_count": 14,
   "id": "6e9adc3b-118f-4ad4-bd9b-5b634315e480",
   "metadata": {},
   "outputs": [],
   "source": [
    "y = df[\"GradeClass\"]"
   ]
  },
  {
   "cell_type": "code",
   "execution_count": 15,
   "id": "fcf98a80-a1c8-4b9c-b322-cecb0ac2c750",
   "metadata": {},
   "outputs": [],
   "source": [
    "X_train, X_test, y_train, y_test = train_test_split(X, y, test_size = 0.2, random_state = 42)"
   ]
  },
  {
   "cell_type": "code",
   "execution_count": 16,
   "id": "f81bf748-fd4a-4de9-9be0-5f5b6d09e9b8",
   "metadata": {},
   "outputs": [],
   "source": [
    "model = RandomForestClassifier(n_estimators = 200, warm_start=True, random_state =42)"
   ]
  },
  {
   "cell_type": "code",
   "execution_count": 17,
   "id": "d3d7399b-ecac-4997-9788-4ba93962fac6",
   "metadata": {},
   "outputs": [
    {
     "name": "stderr",
     "output_type": "stream",
     "text": [
      "Training Random Forest: 100%|███████████| 200/200 [00:01<00:00, 102.09it/s]\n"
     ]
    }
   ],
   "source": [
    "for i in tqdm(range(1,201), desc=\"Training Random Forest\"):\n",
    "    model.n_estimators = i\n",
    "    model.fit(X_train, y_train)"
   ]
  },
  {
   "cell_type": "code",
   "execution_count": 18,
   "id": "9545f78f-d1aa-40b0-b0aa-fe9b33078ae6",
   "metadata": {},
   "outputs": [],
   "source": [
    "y_pred = model.predict(X_test)"
   ]
  },
  {
   "cell_type": "code",
   "execution_count": 19,
   "id": "ab17dceb-d368-4c17-a6b0-c687bd63205c",
   "metadata": {},
   "outputs": [
    {
     "name": "stdout",
     "output_type": "stream",
     "text": [
      "Accuracy: 0.9144050104384134\n"
     ]
    }
   ],
   "source": [
    "print(\"Accuracy:\", accuracy_score(y_test, y_pred))"
   ]
  },
  {
   "cell_type": "code",
   "execution_count": 20,
   "id": "367123df-8d8f-4e6c-87b7-3ea9b64251b6",
   "metadata": {},
   "outputs": [
    {
     "name": "stdout",
     "output_type": "stream",
     "text": [
      "Classification Repot: \n",
      "               precision    recall  f1-score   support\n",
      "\n",
      "         0.0       0.83      0.45      0.59        22\n",
      "         1.0       0.81      0.88      0.84        49\n",
      "         2.0       0.94      0.87      0.90        85\n",
      "         3.0       0.90      0.90      0.90        86\n",
      "         4.0       0.94      0.99      0.96       237\n",
      "\n",
      "    accuracy                           0.91       479\n",
      "   macro avg       0.88      0.82      0.84       479\n",
      "weighted avg       0.91      0.91      0.91       479\n",
      "\n"
     ]
    }
   ],
   "source": [
    "print(\"Classification Repot: \\n\", classification_report(y_test, y_pred))"
   ]
  },
  {
   "cell_type": "code",
   "execution_count": 21,
   "id": "696c3bf3-ce67-42b9-803b-2347d1a243e7",
   "metadata": {},
   "outputs": [
    {
     "data": {
      "image/png": "[encoded data removed]",
      "text/plain": [
       "<Figure size 640x480 with 1 Axes>"
      ]
     },
     "metadata": {},
     "output_type": "display_data"
    }
   ],
   "source": [
    "feature_importances = pd.Series(model.feature_importances_, index=X.columns).sort_values(ascending=False)\n",
    "sns.barplot(x=feature_importances, y = feature_importances.index)\n",
    "plt.title(\"Feature Importance\")\n",
    "plt.show()"
   ]
  },
  {
   "cell_type": "code",
   "execution_count": null,
   "id": "3ce88664-7542-4ad6-8856-e6d8c95f11d3",
   "metadata": {},
   "outputs": [],
   "source": []
  }
 ],
 "metadata": {
  "kernelspec": {
   "display_name": "Python 3 (ipykernel)",
   "language": "python",
   "name": "python3"
  },
  "language_info": {
   "codemirror_mode": {
    "name": "ipython",
    "version": 3
   },
   "file_extension": ".py",
   "mimetype": "text/x-python",
   "name": "python",
   "nbconvert_exporter": "python",
   "pygments_lexer": "ipython3",
   "version": "3.12.4"
  }
 },
 "nbformat": 4,
 "nbformat_minor": 5
}
